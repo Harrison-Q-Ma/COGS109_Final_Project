{
 "cells": [
  {
   "cell_type": "code",
   "execution_count": 63,
   "metadata": {},
   "outputs": [],
   "source": [
    "import numpy as np\n",
    "import pandas as pd\n",
    "import matplotlib.pyplot as plt\n",
    "from sklearn.neighbors import KNeighborsClassifier\n",
    "from sklearn.model_selection import GridSearchCV\n",
    "from sklearn.model_selection import train_test_split\n",
    "from sklearn.metrics import accuracy_score, roc_auc_score, f1_score, classification_report\n",
    "from sklearn.model_selection import KFold\n",
    "from sklearn.metrics import confusion_matrix, ConfusionMatrixDisplay"
   ]
  },
  {
   "cell_type": "code",
   "execution_count": 2,
   "metadata": {},
   "outputs": [],
   "source": [
    "data = pd.read_csv('heart.csv')"
   ]
  },
  {
   "cell_type": "code",
   "execution_count": 3,
   "metadata": {},
   "outputs": [
    {
     "data": {
      "text/html": [
       "<div>\n",
       "<style scoped>\n",
       "    .dataframe tbody tr th:only-of-type {\n",
       "        vertical-align: middle;\n",
       "    }\n",
       "\n",
       "    .dataframe tbody tr th {\n",
       "        vertical-align: top;\n",
       "    }\n",
       "\n",
       "    .dataframe thead th {\n",
       "        text-align: right;\n",
       "    }\n",
       "</style>\n",
       "<table border=\"1\" class=\"dataframe\">\n",
       "  <thead>\n",
       "    <tr style=\"text-align: right;\">\n",
       "      <th></th>\n",
       "      <th>age</th>\n",
       "      <th>sex</th>\n",
       "      <th>cp</th>\n",
       "      <th>trtbps</th>\n",
       "      <th>chol</th>\n",
       "      <th>fbs</th>\n",
       "      <th>restecg</th>\n",
       "      <th>thalachh</th>\n",
       "      <th>exng</th>\n",
       "      <th>oldpeak</th>\n",
       "      <th>slp</th>\n",
       "      <th>caa</th>\n",
       "      <th>thall</th>\n",
       "      <th>output</th>\n",
       "    </tr>\n",
       "  </thead>\n",
       "  <tbody>\n",
       "    <tr>\n",
       "      <th>0</th>\n",
       "      <td>63</td>\n",
       "      <td>1</td>\n",
       "      <td>3</td>\n",
       "      <td>145</td>\n",
       "      <td>233</td>\n",
       "      <td>1</td>\n",
       "      <td>0</td>\n",
       "      <td>150</td>\n",
       "      <td>0</td>\n",
       "      <td>2.3</td>\n",
       "      <td>0</td>\n",
       "      <td>0</td>\n",
       "      <td>1</td>\n",
       "      <td>1</td>\n",
       "    </tr>\n",
       "    <tr>\n",
       "      <th>1</th>\n",
       "      <td>37</td>\n",
       "      <td>1</td>\n",
       "      <td>2</td>\n",
       "      <td>130</td>\n",
       "      <td>250</td>\n",
       "      <td>0</td>\n",
       "      <td>1</td>\n",
       "      <td>187</td>\n",
       "      <td>0</td>\n",
       "      <td>3.5</td>\n",
       "      <td>0</td>\n",
       "      <td>0</td>\n",
       "      <td>2</td>\n",
       "      <td>1</td>\n",
       "    </tr>\n",
       "    <tr>\n",
       "      <th>2</th>\n",
       "      <td>41</td>\n",
       "      <td>0</td>\n",
       "      <td>1</td>\n",
       "      <td>130</td>\n",
       "      <td>204</td>\n",
       "      <td>0</td>\n",
       "      <td>0</td>\n",
       "      <td>172</td>\n",
       "      <td>0</td>\n",
       "      <td>1.4</td>\n",
       "      <td>2</td>\n",
       "      <td>0</td>\n",
       "      <td>2</td>\n",
       "      <td>1</td>\n",
       "    </tr>\n",
       "    <tr>\n",
       "      <th>3</th>\n",
       "      <td>56</td>\n",
       "      <td>1</td>\n",
       "      <td>1</td>\n",
       "      <td>120</td>\n",
       "      <td>236</td>\n",
       "      <td>0</td>\n",
       "      <td>1</td>\n",
       "      <td>178</td>\n",
       "      <td>0</td>\n",
       "      <td>0.8</td>\n",
       "      <td>2</td>\n",
       "      <td>0</td>\n",
       "      <td>2</td>\n",
       "      <td>1</td>\n",
       "    </tr>\n",
       "    <tr>\n",
       "      <th>4</th>\n",
       "      <td>57</td>\n",
       "      <td>0</td>\n",
       "      <td>0</td>\n",
       "      <td>120</td>\n",
       "      <td>354</td>\n",
       "      <td>0</td>\n",
       "      <td>1</td>\n",
       "      <td>163</td>\n",
       "      <td>1</td>\n",
       "      <td>0.6</td>\n",
       "      <td>2</td>\n",
       "      <td>0</td>\n",
       "      <td>2</td>\n",
       "      <td>1</td>\n",
       "    </tr>\n",
       "    <tr>\n",
       "      <th>...</th>\n",
       "      <td>...</td>\n",
       "      <td>...</td>\n",
       "      <td>...</td>\n",
       "      <td>...</td>\n",
       "      <td>...</td>\n",
       "      <td>...</td>\n",
       "      <td>...</td>\n",
       "      <td>...</td>\n",
       "      <td>...</td>\n",
       "      <td>...</td>\n",
       "      <td>...</td>\n",
       "      <td>...</td>\n",
       "      <td>...</td>\n",
       "      <td>...</td>\n",
       "    </tr>\n",
       "    <tr>\n",
       "      <th>298</th>\n",
       "      <td>57</td>\n",
       "      <td>0</td>\n",
       "      <td>0</td>\n",
       "      <td>140</td>\n",
       "      <td>241</td>\n",
       "      <td>0</td>\n",
       "      <td>1</td>\n",
       "      <td>123</td>\n",
       "      <td>1</td>\n",
       "      <td>0.2</td>\n",
       "      <td>1</td>\n",
       "      <td>0</td>\n",
       "      <td>3</td>\n",
       "      <td>0</td>\n",
       "    </tr>\n",
       "    <tr>\n",
       "      <th>299</th>\n",
       "      <td>45</td>\n",
       "      <td>1</td>\n",
       "      <td>3</td>\n",
       "      <td>110</td>\n",
       "      <td>264</td>\n",
       "      <td>0</td>\n",
       "      <td>1</td>\n",
       "      <td>132</td>\n",
       "      <td>0</td>\n",
       "      <td>1.2</td>\n",
       "      <td>1</td>\n",
       "      <td>0</td>\n",
       "      <td>3</td>\n",
       "      <td>0</td>\n",
       "    </tr>\n",
       "    <tr>\n",
       "      <th>300</th>\n",
       "      <td>68</td>\n",
       "      <td>1</td>\n",
       "      <td>0</td>\n",
       "      <td>144</td>\n",
       "      <td>193</td>\n",
       "      <td>1</td>\n",
       "      <td>1</td>\n",
       "      <td>141</td>\n",
       "      <td>0</td>\n",
       "      <td>3.4</td>\n",
       "      <td>1</td>\n",
       "      <td>2</td>\n",
       "      <td>3</td>\n",
       "      <td>0</td>\n",
       "    </tr>\n",
       "    <tr>\n",
       "      <th>301</th>\n",
       "      <td>57</td>\n",
       "      <td>1</td>\n",
       "      <td>0</td>\n",
       "      <td>130</td>\n",
       "      <td>131</td>\n",
       "      <td>0</td>\n",
       "      <td>1</td>\n",
       "      <td>115</td>\n",
       "      <td>1</td>\n",
       "      <td>1.2</td>\n",
       "      <td>1</td>\n",
       "      <td>1</td>\n",
       "      <td>3</td>\n",
       "      <td>0</td>\n",
       "    </tr>\n",
       "    <tr>\n",
       "      <th>302</th>\n",
       "      <td>57</td>\n",
       "      <td>0</td>\n",
       "      <td>1</td>\n",
       "      <td>130</td>\n",
       "      <td>236</td>\n",
       "      <td>0</td>\n",
       "      <td>0</td>\n",
       "      <td>174</td>\n",
       "      <td>0</td>\n",
       "      <td>0.0</td>\n",
       "      <td>1</td>\n",
       "      <td>1</td>\n",
       "      <td>2</td>\n",
       "      <td>0</td>\n",
       "    </tr>\n",
       "  </tbody>\n",
       "</table>\n",
       "<p>303 rows × 14 columns</p>\n",
       "</div>"
      ],
      "text/plain": [
       "     age  sex  cp  trtbps  chol  fbs  restecg  thalachh  exng  oldpeak  slp  \\\n",
       "0     63    1   3     145   233    1        0       150     0      2.3    0   \n",
       "1     37    1   2     130   250    0        1       187     0      3.5    0   \n",
       "2     41    0   1     130   204    0        0       172     0      1.4    2   \n",
       "3     56    1   1     120   236    0        1       178     0      0.8    2   \n",
       "4     57    0   0     120   354    0        1       163     1      0.6    2   \n",
       "..   ...  ...  ..     ...   ...  ...      ...       ...   ...      ...  ...   \n",
       "298   57    0   0     140   241    0        1       123     1      0.2    1   \n",
       "299   45    1   3     110   264    0        1       132     0      1.2    1   \n",
       "300   68    1   0     144   193    1        1       141     0      3.4    1   \n",
       "301   57    1   0     130   131    0        1       115     1      1.2    1   \n",
       "302   57    0   1     130   236    0        0       174     0      0.0    1   \n",
       "\n",
       "     caa  thall  output  \n",
       "0      0      1       1  \n",
       "1      0      2       1  \n",
       "2      0      2       1  \n",
       "3      0      2       1  \n",
       "4      0      2       1  \n",
       "..   ...    ...     ...  \n",
       "298    0      3       0  \n",
       "299    0      3       0  \n",
       "300    2      3       0  \n",
       "301    1      3       0  \n",
       "302    1      2       0  \n",
       "\n",
       "[303 rows x 14 columns]"
      ]
     },
     "execution_count": 3,
     "metadata": {},
     "output_type": "execute_result"
    }
   ],
   "source": [
    "data"
   ]
  },
  {
   "cell_type": "code",
   "execution_count": 4,
   "metadata": {},
   "outputs": [
    {
     "data": {
      "text/html": [
       "<div>\n",
       "<style scoped>\n",
       "    .dataframe tbody tr th:only-of-type {\n",
       "        vertical-align: middle;\n",
       "    }\n",
       "\n",
       "    .dataframe tbody tr th {\n",
       "        vertical-align: top;\n",
       "    }\n",
       "\n",
       "    .dataframe thead th {\n",
       "        text-align: right;\n",
       "    }\n",
       "</style>\n",
       "<table border=\"1\" class=\"dataframe\">\n",
       "  <thead>\n",
       "    <tr style=\"text-align: right;\">\n",
       "      <th></th>\n",
       "      <th>age</th>\n",
       "      <th>sex</th>\n",
       "      <th>cp</th>\n",
       "      <th>trtbps</th>\n",
       "      <th>chol</th>\n",
       "      <th>fbs</th>\n",
       "      <th>restecg</th>\n",
       "      <th>thalachh</th>\n",
       "      <th>exng</th>\n",
       "      <th>oldpeak</th>\n",
       "      <th>slp</th>\n",
       "      <th>caa</th>\n",
       "      <th>thall</th>\n",
       "    </tr>\n",
       "  </thead>\n",
       "  <tbody>\n",
       "    <tr>\n",
       "      <th>0</th>\n",
       "      <td>63</td>\n",
       "      <td>1</td>\n",
       "      <td>3</td>\n",
       "      <td>145</td>\n",
       "      <td>233</td>\n",
       "      <td>1</td>\n",
       "      <td>0</td>\n",
       "      <td>150</td>\n",
       "      <td>0</td>\n",
       "      <td>2.3</td>\n",
       "      <td>0</td>\n",
       "      <td>0</td>\n",
       "      <td>1</td>\n",
       "    </tr>\n",
       "    <tr>\n",
       "      <th>1</th>\n",
       "      <td>37</td>\n",
       "      <td>1</td>\n",
       "      <td>2</td>\n",
       "      <td>130</td>\n",
       "      <td>250</td>\n",
       "      <td>0</td>\n",
       "      <td>1</td>\n",
       "      <td>187</td>\n",
       "      <td>0</td>\n",
       "      <td>3.5</td>\n",
       "      <td>0</td>\n",
       "      <td>0</td>\n",
       "      <td>2</td>\n",
       "    </tr>\n",
       "    <tr>\n",
       "      <th>2</th>\n",
       "      <td>41</td>\n",
       "      <td>0</td>\n",
       "      <td>1</td>\n",
       "      <td>130</td>\n",
       "      <td>204</td>\n",
       "      <td>0</td>\n",
       "      <td>0</td>\n",
       "      <td>172</td>\n",
       "      <td>0</td>\n",
       "      <td>1.4</td>\n",
       "      <td>2</td>\n",
       "      <td>0</td>\n",
       "      <td>2</td>\n",
       "    </tr>\n",
       "    <tr>\n",
       "      <th>3</th>\n",
       "      <td>56</td>\n",
       "      <td>1</td>\n",
       "      <td>1</td>\n",
       "      <td>120</td>\n",
       "      <td>236</td>\n",
       "      <td>0</td>\n",
       "      <td>1</td>\n",
       "      <td>178</td>\n",
       "      <td>0</td>\n",
       "      <td>0.8</td>\n",
       "      <td>2</td>\n",
       "      <td>0</td>\n",
       "      <td>2</td>\n",
       "    </tr>\n",
       "    <tr>\n",
       "      <th>4</th>\n",
       "      <td>57</td>\n",
       "      <td>0</td>\n",
       "      <td>0</td>\n",
       "      <td>120</td>\n",
       "      <td>354</td>\n",
       "      <td>0</td>\n",
       "      <td>1</td>\n",
       "      <td>163</td>\n",
       "      <td>1</td>\n",
       "      <td>0.6</td>\n",
       "      <td>2</td>\n",
       "      <td>0</td>\n",
       "      <td>2</td>\n",
       "    </tr>\n",
       "    <tr>\n",
       "      <th>...</th>\n",
       "      <td>...</td>\n",
       "      <td>...</td>\n",
       "      <td>...</td>\n",
       "      <td>...</td>\n",
       "      <td>...</td>\n",
       "      <td>...</td>\n",
       "      <td>...</td>\n",
       "      <td>...</td>\n",
       "      <td>...</td>\n",
       "      <td>...</td>\n",
       "      <td>...</td>\n",
       "      <td>...</td>\n",
       "      <td>...</td>\n",
       "    </tr>\n",
       "    <tr>\n",
       "      <th>298</th>\n",
       "      <td>57</td>\n",
       "      <td>0</td>\n",
       "      <td>0</td>\n",
       "      <td>140</td>\n",
       "      <td>241</td>\n",
       "      <td>0</td>\n",
       "      <td>1</td>\n",
       "      <td>123</td>\n",
       "      <td>1</td>\n",
       "      <td>0.2</td>\n",
       "      <td>1</td>\n",
       "      <td>0</td>\n",
       "      <td>3</td>\n",
       "    </tr>\n",
       "    <tr>\n",
       "      <th>299</th>\n",
       "      <td>45</td>\n",
       "      <td>1</td>\n",
       "      <td>3</td>\n",
       "      <td>110</td>\n",
       "      <td>264</td>\n",
       "      <td>0</td>\n",
       "      <td>1</td>\n",
       "      <td>132</td>\n",
       "      <td>0</td>\n",
       "      <td>1.2</td>\n",
       "      <td>1</td>\n",
       "      <td>0</td>\n",
       "      <td>3</td>\n",
       "    </tr>\n",
       "    <tr>\n",
       "      <th>300</th>\n",
       "      <td>68</td>\n",
       "      <td>1</td>\n",
       "      <td>0</td>\n",
       "      <td>144</td>\n",
       "      <td>193</td>\n",
       "      <td>1</td>\n",
       "      <td>1</td>\n",
       "      <td>141</td>\n",
       "      <td>0</td>\n",
       "      <td>3.4</td>\n",
       "      <td>1</td>\n",
       "      <td>2</td>\n",
       "      <td>3</td>\n",
       "    </tr>\n",
       "    <tr>\n",
       "      <th>301</th>\n",
       "      <td>57</td>\n",
       "      <td>1</td>\n",
       "      <td>0</td>\n",
       "      <td>130</td>\n",
       "      <td>131</td>\n",
       "      <td>0</td>\n",
       "      <td>1</td>\n",
       "      <td>115</td>\n",
       "      <td>1</td>\n",
       "      <td>1.2</td>\n",
       "      <td>1</td>\n",
       "      <td>1</td>\n",
       "      <td>3</td>\n",
       "    </tr>\n",
       "    <tr>\n",
       "      <th>302</th>\n",
       "      <td>57</td>\n",
       "      <td>0</td>\n",
       "      <td>1</td>\n",
       "      <td>130</td>\n",
       "      <td>236</td>\n",
       "      <td>0</td>\n",
       "      <td>0</td>\n",
       "      <td>174</td>\n",
       "      <td>0</td>\n",
       "      <td>0.0</td>\n",
       "      <td>1</td>\n",
       "      <td>1</td>\n",
       "      <td>2</td>\n",
       "    </tr>\n",
       "  </tbody>\n",
       "</table>\n",
       "<p>303 rows × 13 columns</p>\n",
       "</div>"
      ],
      "text/plain": [
       "     age  sex  cp  trtbps  chol  fbs  restecg  thalachh  exng  oldpeak  slp  \\\n",
       "0     63    1   3     145   233    1        0       150     0      2.3    0   \n",
       "1     37    1   2     130   250    0        1       187     0      3.5    0   \n",
       "2     41    0   1     130   204    0        0       172     0      1.4    2   \n",
       "3     56    1   1     120   236    0        1       178     0      0.8    2   \n",
       "4     57    0   0     120   354    0        1       163     1      0.6    2   \n",
       "..   ...  ...  ..     ...   ...  ...      ...       ...   ...      ...  ...   \n",
       "298   57    0   0     140   241    0        1       123     1      0.2    1   \n",
       "299   45    1   3     110   264    0        1       132     0      1.2    1   \n",
       "300   68    1   0     144   193    1        1       141     0      3.4    1   \n",
       "301   57    1   0     130   131    0        1       115     1      1.2    1   \n",
       "302   57    0   1     130   236    0        0       174     0      0.0    1   \n",
       "\n",
       "     caa  thall  \n",
       "0      0      1  \n",
       "1      0      2  \n",
       "2      0      2  \n",
       "3      0      2  \n",
       "4      0      2  \n",
       "..   ...    ...  \n",
       "298    0      3  \n",
       "299    0      3  \n",
       "300    2      3  \n",
       "301    1      3  \n",
       "302    1      2  \n",
       "\n",
       "[303 rows x 13 columns]"
      ]
     },
     "execution_count": 4,
     "metadata": {},
     "output_type": "execute_result"
    }
   ],
   "source": [
    "X = data.iloc[:,:13]\n",
    "X"
   ]
  },
  {
   "cell_type": "code",
   "execution_count": 5,
   "metadata": {},
   "outputs": [
    {
     "data": {
      "text/plain": [
       "0      1\n",
       "1      1\n",
       "2      1\n",
       "3      1\n",
       "4      1\n",
       "      ..\n",
       "298    0\n",
       "299    0\n",
       "300    0\n",
       "301    0\n",
       "302    0\n",
       "Name: output, Length: 303, dtype: int64"
      ]
     },
     "execution_count": 5,
     "metadata": {},
     "output_type": "execute_result"
    }
   ],
   "source": [
    "y = data.iloc[:,-1]\n",
    "y"
   ]
  },
  {
   "cell_type": "markdown",
   "metadata": {},
   "source": [
    "## Hyperparameter Search"
   ]
  },
  {
   "cell_type": "code",
   "execution_count": 6,
   "metadata": {},
   "outputs": [],
   "source": [
    "model = KNeighborsClassifier()\n",
    "param = {'n_neighbors' : [10], \n",
    "         'weights' : ['uniform', 'distance'], \n",
    "         'algorithm' : ['auto', 'ball_tree', 'kd_tree', 'brute'], \n",
    "         'leaf_size' : range(1,50),\n",
    "         'p' : [1,2]\n",
    "        }\n",
    "\n",
    "clf = GridSearchCV(model, param, scoring = ['accuracy'], refit=False, n_jobs = -1)\n",
    "best_model = clf.fit(X,y)"
   ]
  },
  {
   "cell_type": "code",
   "execution_count": 7,
   "metadata": {
    "scrolled": false
   },
   "outputs": [
    {
     "data": {
      "text/plain": [
       "{'algorithm': 'ball_tree',\n",
       " 'leaf_size': 16,\n",
       " 'n_neighbors': 10,\n",
       " 'p': 1,\n",
       " 'weights': 'distance'}"
      ]
     },
     "execution_count": 7,
     "metadata": {},
     "output_type": "execute_result"
    }
   ],
   "source": [
    "# print out the best hyperparameters for fitting k nearest neighbors classifier\n",
    "best_model.cv_results_['params'][np.argmin(best_model.cv_results_['rank_test_accuracy'])]"
   ]
  },
  {
   "cell_type": "code",
   "execution_count": 8,
   "metadata": {},
   "outputs": [],
   "source": [
    "# use a 5-fold cross validation to get the average accuracy, f1 score, and area under roc\n",
    "kf = KFold(n_splits = 10, shuffle = True)\n",
    "accu_list = []\n",
    "f1_list = []\n",
    "roc_list = []\n",
    "\n",
    "for train_ind, test_ind in kf.split(X): \n",
    "    X_train, X_test = X.iloc[train_ind,:], X.iloc[test_ind,:]\n",
    "    y_train, y_test = y[train_ind], y[test_ind]\n",
    "    \n",
    "    for i in range(1,50): \n",
    "        model = KNeighborsClassifier(n_neighbors = i, algorithm = 'ball_tree', leaf_size = 16, p = 1, weights = 'distance')\n",
    "        model.fit(X_train, y_train)\n",
    "        y_pred = model.predict(X_test)\n",
    "        accu_list.append(accuracy_score(y_pred, y_test))\n",
    "        f1_list.append(f1_score(y_pred, y_test))\n",
    "        roc_list.append(roc_auc_score(y_pred, y_test))"
   ]
  },
  {
   "cell_type": "code",
   "execution_count": 9,
   "metadata": {},
   "outputs": [],
   "source": [
    "length = len(accu_list)\n",
    "accu_list1 = accu_list[:int(length/10)]\n",
    "accu_list2 = accu_list[int(length/10):int(length/10)*2]\n",
    "accu_list3 = accu_list[int(length/10)*2:int(length/10)*3]\n",
    "accu_list4 = accu_list[int(length/10)*3:int(length/10)*4]\n",
    "accu_list5 = accu_list[int(length/10)*4:int(length/10)*5]\n",
    "accu_list6 = accu_list[int(length/10)*5:int(length/10)*6]\n",
    "accu_list7 = accu_list[int(length/10)*6:int(length/10)*7]\n",
    "accu_list8 = accu_list[int(length/10)*7:int(length/10)*8]\n",
    "accu_list9 = accu_list[int(length/10)*8:int(length/10)*9]\n",
    "accu_list10 = accu_list[int(length/10)*9:]\n",
    "accu_list = []\n",
    "for i in range(int(length/10)):\n",
    "    accu_list.append(np.average([accu_list1[i],accu_list2[i],accu_list3[i],accu_list4[i],accu_list5[i],\n",
    "                                accu_list6[i],accu_list7[i],accu_list8[i],accu_list9[i],accu_list10[i]]))\n",
    "    \n",
    "#accu_std = []\n",
    "#for i in range(int(length/10)):\n",
    "#    accu_std.append(np.std([accu_list1[i],accu_list2[i],accu_list3[i],accu_list4[i],accu_list5[i]]))"
   ]
  },
  {
   "cell_type": "code",
   "execution_count": 10,
   "metadata": {},
   "outputs": [],
   "source": [
    "length = len(f1_list)\n",
    "f1_list1 = f1_list[:int(length/10)]\n",
    "f1_list2 = f1_list[int(length/10):int(length/10)*2]\n",
    "f1_list3 = f1_list[int(length/10)*2:int(length/10)*3]\n",
    "f1_list4 = f1_list[int(length/10)*3:int(length/10)*4]\n",
    "f1_list5 = f1_list[int(length/10)*4:int(length/10)*5]\n",
    "f1_list6 = f1_list[int(length/10)*5:int(length/10)*6]\n",
    "f1_list7 = f1_list[int(length/10)*6:int(length/10)*7]\n",
    "f1_list8 = f1_list[int(length/10)*7:int(length/10)*8]\n",
    "f1_list9 = f1_list[int(length/10)*8:int(length/10)*9]\n",
    "f1_list10 = f1_list[int(length/10)*9:]\n",
    "f1_list = []\n",
    "for i in range(int(length/10)):\n",
    "    f1_list.append(np.average([f1_list1[i],f1_list2[i],f1_list3[i],f1_list4[i],f1_list5[i],\n",
    "                                f1_list6[i],f1_list7[i],f1_list8[i],f1_list9[i],f1_list10[i]]))"
   ]
  },
  {
   "cell_type": "code",
   "execution_count": 11,
   "metadata": {},
   "outputs": [],
   "source": [
    "length = len(roc_list)\n",
    "roc_list1 = roc_list[:int(length/10)]\n",
    "roc_list2 = roc_list[int(length/10):int(length/10)*2]\n",
    "roc_list3 = roc_list[int(length/10)*2:int(length/10)*3]\n",
    "roc_list4 = roc_list[int(length/10)*3:int(length/10)*4]\n",
    "roc_list5 = roc_list[int(length/10)*4:int(length/10)*5]\n",
    "roc_list6 = roc_list[int(length/10)*5:int(length/10)*6]\n",
    "roc_list7 = roc_list[int(length/10)*6:int(length/10)*7]\n",
    "roc_list8 = roc_list[int(length/10)*7:int(length/10)*8]\n",
    "roc_list9 = roc_list[int(length/10)*8:int(length/10)*9]\n",
    "roc_list10 = roc_list[int(length/10)*9:]\n",
    "roc_list = []\n",
    "for i in range(int(length/10)):\n",
    "    roc_list.append(np.average([roc_list1[i],roc_list2[i],roc_list3[i],roc_list4[i],roc_list5[i],\n",
    "                                roc_list6[i],roc_list7[i],roc_list8[i],roc_list9[i],roc_list10[i]]))"
   ]
  },
  {
   "cell_type": "code",
   "execution_count": 12,
   "metadata": {},
   "outputs": [
    {
     "data": {
      "image/png": "[encoded data removed]",
      "text/plain": [
       "<Figure size 432x288 with 1 Axes>"
      ]
     },
     "metadata": {
      "needs_background": "light"
     },
     "output_type": "display_data"
    }
   ],
   "source": [
    "plt.plot(accu_list, label = 'Accuracy') \n",
    "plt.plot(f1_list, label = 'F1 Score') \n",
    "plt.plot(roc_list, label = 'AUC') \n",
    "plt.legend() \n",
    "plt.show() "
   ]
  },
  {
   "cell_type": "code",
   "execution_count": 13,
   "metadata": {},
   "outputs": [],
   "source": [
    "overall_score = np.array(accu_list) + np.array(f1_list) + np.array(roc_list)"
   ]
  },
  {
   "cell_type": "code",
   "execution_count": 14,
   "metadata": {},
   "outputs": [
    {
     "data": {
      "text/plain": [
       "45"
      ]
     },
     "execution_count": 14,
     "metadata": {},
     "output_type": "execute_result"
    }
   ],
   "source": [
    "np.argmax(overall_score)"
   ]
  },
  {
   "cell_type": "code",
   "execution_count": 15,
   "metadata": {},
   "outputs": [
    {
     "data": {
      "text/plain": [
       "array([1.94947954, 1.94722125, 1.95241603, 1.98936452, 2.08850053,\n",
       "       2.03210114, 2.06717221, 2.1074204 , 2.10953682, 2.12067137,\n",
       "       2.11177412, 2.07438622, 2.06566858, 2.08085787, 2.04982177,\n",
       "       2.09879892, 2.05191067, 2.07994513, 2.09988772, 2.13775295,\n",
       "       2.12779291, 2.13868499, 2.09996592, 2.12682406, 2.11896463,\n",
       "       2.09958787, 2.12168482, 2.09355822, 2.07605432, 2.11754829,\n",
       "       2.11944004, 2.13685305, 2.12241611, 2.14769762, 2.10395579,\n",
       "       2.15170698, 2.12291717, 2.12268623, 2.13175999, 2.13348899,\n",
       "       2.14220901, 2.13577467, 2.14206708, 2.14379458, 2.14206708,\n",
       "       2.15349334, 2.12728137, 2.13651194, 2.10814886])"
      ]
     },
     "execution_count": 15,
     "metadata": {},
     "output_type": "execute_result"
    }
   ],
   "source": [
    "overall_score"
   ]
  },
  {
   "cell_type": "code",
   "execution_count": 18,
   "metadata": {
    "scrolled": false
   },
   "outputs": [],
   "source": [
    "overall_score1 = np.array([1.9444265 , 1.9444265 , 1.9934183 , 1.99610207, 2.04722251,\n",
    "       1.99145769, 1.98270081, 2.00207705, 2.03020952, 2.06669298,\n",
    "       2.0778327 , 2.05919652, 2.02821851, 2.03033965, 2.0418568 ,\n",
    "       2.04946371, 2.00057789, 2.02976495, 2.0223148 , 2.04926608,\n",
    "       2.06609702, 2.05046891, 2.07980556, 2.08993763, 2.11523361,\n",
    "       2.1396355 , 2.13983114, 2.13760331, 2.13528812, 2.09927655,\n",
    "       2.11326793, 2.13075746, 2.11449324, 2.12438524, 2.12530722,\n",
    "       2.14264873, 2.10023208, 2.09537143, 2.09196007, 2.09812453,\n",
    "       2.07488221, 2.08043502, 2.09300048, 2.07790339, 2.07928779,\n",
    "       2.05940346, 2.06735924, 2.10317311, 2.06066034])\n",
    "overall_score2 = np.array([1.94133346, 1.94866458, 2.00131788, 1.9899661 , 2.07105679,\n",
    "       2.0549558 , 2.02030506, 2.0610152 , 2.0389594 , 2.06128027,\n",
    "       2.10639101, 2.13534054, 2.11302962, 2.09037068, 2.08649497,\n",
    "       2.09428065, 2.09538208, 2.04709429, 2.02818252, 2.10442851,\n",
    "       2.04613338, 2.05162496, 2.05936841, 2.09450757, 2.09750854,\n",
    "       2.11674671, 2.11653492, 2.12855602, 2.13377293, 2.11793988,\n",
    "       2.13620941, 2.12744309, 2.1444605 , 2.09851121, 2.11855064,\n",
    "       2.13609015, 2.15060186, 2.14578605, 2.13083455, 2.10187897,\n",
    "       2.09120012, 2.11344686, 2.09423489, 2.08928406, 2.10230151,\n",
    "       2.11001927, 2.0901095 , 2.13576613, 2.09884821])\n",
    "overall_score3 = np.array([1.99081694, 1.9892456 , 2.01313716, 2.02534742, 2.09811946,\n",
    "       2.04916184, 2.0849229 , 2.03635479, 2.07489621, 2.06983186,\n",
    "       2.06679365, 2.05743407, 2.06730986, 2.07135402, 2.06736713,\n",
    "       2.12335576, 2.09559544, 2.1204041 , 2.08603098, 2.09854952,\n",
    "       2.05987306, 2.08483183, 2.11187767, 2.12127724, 2.11151545,\n",
    "       2.1601582 , 2.15040618, 2.15948578, 2.14002964, 2.12876935,\n",
    "       2.12258268, 2.12579192, 2.12676587, 2.12607449, 2.13866602,\n",
    "       2.15778847, 2.1465139 , 2.18186559, 2.1606895 , 2.18147954,\n",
    "       2.19147806, 2.16016379, 2.14527369, 2.15256896, 2.12970316,\n",
    "       2.14072915, 2.12249418, 2.09580872, 2.12586892])\n",
    "overall_score4 = np.array([1.930072  , 1.92607756, 1.98559193, 2.02311142, 2.06568146,\n",
    "       2.08646836, 2.03920763, 2.06827065, 2.10368962, 2.06830377,\n",
    "       2.11672917, 2.06392829, 2.09088406, 2.08005484, 2.05883676,\n",
    "       2.05819843, 2.04156094, 2.06244749, 2.07070652, 2.06246492,\n",
    "       2.08149195, 2.08201479, 2.10297326, 2.10296492, 2.0828271 ,\n",
    "       2.11401518, 2.09450425, 2.08973414, 2.11702733, 2.09064672,\n",
    "       2.12180922, 2.11120814, 2.10214581, 2.09374291, 2.11125368,\n",
    "       2.10254821, 2.1217905 , 2.10207631, 2.07109683, 2.08974988,\n",
    "       2.06696353, 2.07663621, 2.07772161, 2.10862612, 2.07207695,\n",
    "       2.10908703, 2.04461512, 2.06035765, 2.05897122])\n",
    "overall_score5 = np.array([1.94947954, 1.94722125, 1.95241603, 1.98936452, 2.08850053,\n",
    "       2.03210114, 2.06717221, 2.1074204 , 2.10953682, 2.12067137,\n",
    "       2.11177412, 2.07438622, 2.06566858, 2.08085787, 2.04982177,\n",
    "       2.09879892, 2.05191067, 2.07994513, 2.09988772, 2.13775295,\n",
    "       2.12779291, 2.13868499, 2.09996592, 2.12682406, 2.11896463,\n",
    "       2.09958787, 2.12168482, 2.09355822, 2.07605432, 2.11754829,\n",
    "       2.11944004, 2.13685305, 2.12241611, 2.14769762, 2.10395579,\n",
    "       2.15170698, 2.12291717, 2.12268623, 2.13175999, 2.13348899,\n",
    "       2.14220901, 2.13577467, 2.14206708, 2.14379458, 2.14206708,\n",
    "       2.15349334, 2.12728137, 2.13651194, 2.10814886])"
   ]
  },
  {
   "cell_type": "code",
   "execution_count": 23,
   "metadata": {},
   "outputs": [],
   "source": [
    "overall_score = overall_score1 + overall_score2 + overall_score3 + overall_score4 + overall_score5"
   ]
  },
  {
   "cell_type": "code",
   "execution_count": 24,
   "metadata": {},
   "outputs": [
    {
     "data": {
      "text/plain": [
       "array([ 9.75612844,  9.75563549,  9.9458813 , 10.02389153, 10.37058075,\n",
       "       10.21414483, 10.19430861, 10.27513809, 10.35729157, 10.38678025,\n",
       "       10.47952065, 10.39028564, 10.36511063, 10.35297706, 10.30437743,\n",
       "       10.42409747, 10.28502702, 10.33965596, 10.30712254, 10.45246198,\n",
       "       10.38138832, 10.40762548, 10.45399082, 10.53551142, 10.52604933,\n",
       "       10.63014346, 10.62296131, 10.60893747, 10.60217234, 10.55418079,\n",
       "       10.61330928, 10.63205366, 10.61028153, 10.59041147, 10.59773335,\n",
       "       10.69078254, 10.64205551, 10.64778561, 10.58634094, 10.60472191,\n",
       "       10.56673293, 10.56645655, 10.55229775, 10.57217711, 10.52543649,\n",
       "       10.57273225, 10.45185941, 10.53161755, 10.45249755])"
      ]
     },
     "execution_count": 24,
     "metadata": {},
     "output_type": "execute_result"
    }
   ],
   "source": [
    "overall_score"
   ]
  },
  {
   "cell_type": "code",
   "execution_count": 25,
   "metadata": {},
   "outputs": [
    {
     "data": {
      "text/plain": [
       "[<matplotlib.lines.Line2D at 0x2d75386cd60>]"
      ]
     },
     "execution_count": 25,
     "metadata": {},
     "output_type": "execute_result"
    },
    {
     "data": {
      "image/png": "[encoded data removed]",
      "text/plain": [
       "<Figure size 432x288 with 1 Axes>"
      ]
     },
     "metadata": {
      "needs_background": "light"
     },
     "output_type": "display_data"
    }
   ],
   "source": [
    "plt.plot(overall_score)"
   ]
  },
  {
   "cell_type": "code",
   "execution_count": 26,
   "metadata": {},
   "outputs": [
    {
     "data": {
      "text/plain": [
       "35"
      ]
     },
     "execution_count": 26,
     "metadata": {},
     "output_type": "execute_result"
    }
   ],
   "source": [
    "np.argmax(overall_score)"
   ]
  },
  {
   "cell_type": "markdown",
   "metadata": {},
   "source": [
    "Choose n = 35. "
   ]
  },
  {
   "cell_type": "code",
   "execution_count": 53,
   "metadata": {},
   "outputs": [],
   "source": [
    "kf = KFold(n_splits = 10, shuffle = True)\n",
    "accu_list = []\n",
    "f1_list = []\n",
    "roc_list = []\n",
    "y_pred_list = []\n",
    "y_true_list = [] \n",
    "\n",
    "for train_ind, test_ind in kf.split(X): \n",
    "    X_train, X_test = X.iloc[train_ind,:], X.iloc[test_ind,:]\n",
    "    y_train, y_test = y[train_ind], y[test_ind]\n",
    "    \n",
    "    model = KNeighborsClassifier(n_neighbors = i, algorithm = 'ball_tree', leaf_size = 16, p = 1, weights = 'distance')\n",
    "    model.fit(X_train, y_train)\n",
    "    y_pred = model.predict(X_test)\n",
    "    y_pred_list.extend(y_pred)\n",
    "    y_true_list.extend(y_test)\n",
    "    \n",
    "    accu_list.append(accuracy_score(y_pred, y_test))\n",
    "    f1_list.append(f1_score(y_pred, y_test))\n",
    "    roc_list.append(roc_auc_score(y_pred, y_test))"
   ]
  },
  {
   "cell_type": "code",
   "execution_count": 57,
   "metadata": {},
   "outputs": [],
   "source": [
    "cm = confusion_matrix(y_true_list, y_pred_list)"
   ]
  },
  {
   "cell_type": "code",
   "execution_count": 58,
   "metadata": {},
   "outputs": [],
   "source": [
    "disp = ConfusionMatrixDisplay(confusion_matrix=cm)"
   ]
  },
  {
   "cell_type": "code",
   "execution_count": 61,
   "metadata": {},
   "outputs": [
    {
     "data": {
      "text/plain": [
       "<sklearn.metrics._plot.confusion_matrix.ConfusionMatrixDisplay at 0x2d7525d4b80>"
      ]
     },
     "execution_count": 61,
     "metadata": {},
     "output_type": "execute_result"
    },
    {
     "data": {
      "image/png": "[encoded data removed]",
      "text/plain": [
       "<Figure size 432x288 with 2 Axes>"
      ]
     },
     "metadata": {
      "needs_background": "light"
     },
     "output_type": "display_data"
    }
   ],
   "source": [
    "disp.plot()"
   ]
  },
  {
   "cell_type": "code",
   "execution_count": 65,
   "metadata": {},
   "outputs": [
    {
     "name": "stdout",
     "output_type": "stream",
     "text": [
      "              precision    recall  f1-score   support\n",
      "\n",
      "           0       0.67      0.55      0.61       138\n",
      "           1       0.67      0.78      0.72       165\n",
      "\n",
      "    accuracy                           0.67       303\n",
      "   macro avg       0.67      0.66      0.66       303\n",
      "weighted avg       0.67      0.67      0.67       303\n",
      "\n"
     ]
    }
   ],
   "source": [
    "print(classification_report(y_true_list, y_pred_list))"
   ]
  },
  {
   "cell_type": "code",
   "execution_count": null,
   "metadata": {},
   "outputs": [],
   "source": []
  }
 ],
 "metadata": {
  "kernelspec": {
   "display_name": "Python 3",
   "language": "python",
   "name": "python3"
  },
  "language_info": {
   "codemirror_mode": {
    "name": "ipython",
    "version": 3
   },
   "file_extension": ".py",
   "mimetype": "text/x-python",
   "name": "python",
   "nbconvert_exporter": "python",
   "pygments_lexer": "ipython3",
   "version": "3.8.5"
  }
 },
 "nbformat": 4,
 "nbformat_minor": 4
}
